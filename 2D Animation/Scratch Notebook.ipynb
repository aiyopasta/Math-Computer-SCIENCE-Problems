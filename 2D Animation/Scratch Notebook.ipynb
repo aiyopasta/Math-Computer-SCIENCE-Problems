{
 "cells": [
  {
   "cell_type": "code",
   "execution_count": 13,
   "metadata": {},
   "outputs": [
    {
     "name": "stdout",
     "output_type": "stream",
     "text": [
      "[[1 1]\n",
      " [2 2]\n",
      " [3 3]\n",
      " [4 4]]\n"
     ]
    }
   ],
   "source": [
    "import numpy as np\n",
    "\n",
    "points = np.array([1, 1, 2, 2, 3, 3, 4, 4])\n",
    "points = points.reshape((int(len(points)/2)), 2)\n",
    "print(points)"
   ]
  },
  {
   "cell_type": "markdown",
   "metadata": {},
   "source": []
  },
  {
   "cell_type": "code",
   "execution_count": 14,
   "metadata": {},
   "outputs": [
    {
     "name": "stdout",
     "output_type": "stream",
     "text": [
      "True\n"
     ]
    }
   ],
   "source": [
    "print(0<1<2)"
   ]
  },
  {
   "cell_type": "code",
   "execution_count": 16,
   "metadata": {},
   "outputs": [
    {
     "ename": "TypeError",
     "evalue": "s() missing 1 required positional argument: 'y'",
     "output_type": "error",
     "traceback": [
      "\u001b[0;31m---------------------------------------------------------------------------\u001b[0m",
      "\u001b[0;31mTypeError\u001b[0m                                 Traceback (most recent call last)",
      "\u001b[0;32m<ipython-input-16-a86b24e8eb66>\u001b[0m in \u001b[0;36m<module>\u001b[0;34m()\u001b[0m\n\u001b[1;32m      3\u001b[0m \u001b[0;34m\u001b[0m\u001b[0m\n\u001b[1;32m      4\u001b[0m \u001b[0mpoints\u001b[0m \u001b[0;34m=\u001b[0m \u001b[0mnp\u001b[0m\u001b[0;34m.\u001b[0m\u001b[0marray\u001b[0m\u001b[0;34m(\u001b[0m\u001b[0;34m[\u001b[0m\u001b[0;34m[\u001b[0m\u001b[0;36m1\u001b[0m\u001b[0;34m,\u001b[0m \u001b[0;36m1\u001b[0m\u001b[0;34m]\u001b[0m\u001b[0;34m,\u001b[0m \u001b[0;34m[\u001b[0m\u001b[0;36m2\u001b[0m\u001b[0;34m,\u001b[0m \u001b[0;36m2\u001b[0m\u001b[0;34m]\u001b[0m\u001b[0;34m,\u001b[0m \u001b[0;34m[\u001b[0m\u001b[0;36m3\u001b[0m\u001b[0;34m,\u001b[0m \u001b[0;36m3\u001b[0m\u001b[0;34m]\u001b[0m\u001b[0;34m]\u001b[0m\u001b[0;34m)\u001b[0m\u001b[0;34m\u001b[0m\u001b[0m\n\u001b[0;32m----> 5\u001b[0;31m \u001b[0mprint\u001b[0m\u001b[0;34m(\u001b[0m\u001b[0ms\u001b[0m\u001b[0;34m(\u001b[0m\u001b[0mpoints\u001b[0m\u001b[0;34m)\u001b[0m\u001b[0;34m)\u001b[0m\u001b[0;34m\u001b[0m\u001b[0m\n\u001b[0m",
      "\u001b[0;31mTypeError\u001b[0m: s() missing 1 required positional argument: 'y'"
     ]
    }
   ],
   "source": [
    "def s(x, y):\n",
    "    return np.array([x, y])\n",
    "\n",
    "points = np.array([[1, 1], [2, 2], [3, 3]])\n",
    "print(s(points))"
   ]
  },
  {
   "cell_type": "code",
   "execution_count": 12,
   "metadata": {},
   "outputs": [
    {
     "name": "stdout",
     "output_type": "stream",
     "text": [
      "2\n"
     ]
    }
   ],
   "source": [
    "class Foo:\n",
    "    def __init__(self, a):\n",
    "        self.a = a\n",
    "        \n",
    "    def hi(self, g):\n",
    "        print('hi')\n",
    "        self.a = g\n",
    "        \n",
    "        \n",
    "foo = Foo(3)\n",
    "def mary(t):\n",
    "    foo.a = t\n",
    "\n",
    "mary(2)\n",
    "print(foo.a)"
   ]
  },
  {
   "cell_type": "code",
   "execution_count": 16,
   "metadata": {},
   "outputs": [
    {
     "name": "stdout",
     "output_type": "stream",
     "text": [
      "hi\n",
      "3.14\n"
     ]
    }
   ],
   "source": [
    "foo = Foo(4)\n",
    "hi = foo.hi\n",
    "hi(3.14)\n",
    "print(foo.a)"
   ]
  },
  {
   "cell_type": "code",
   "execution_count": 24,
   "metadata": {},
   "outputs": [
    {
     "data": {
      "text/plain": [
       "array([0. , 0.5])"
      ]
     },
     "execution_count": 24,
     "metadata": {},
     "output_type": "execute_result"
    }
   ],
   "source": [
    "import numpy as np\n",
    "np.arange(0, 1, 0.5)"
   ]
  },
  {
   "cell_type": "code",
   "execution_count": 42,
   "metadata": {},
   "outputs": [
    {
     "data": {
      "text/plain": [
       "array([[1, 3],\n",
       "       [2, 4]])"
      ]
     },
     "execution_count": 42,
     "metadata": {},
     "output_type": "execute_result"
    }
   ],
   "source": [
    "A = np.array([[1, 2], [3, 4]]).T\n",
    "v = np.array([1, 1])\n",
    "# print(A, v)\n",
    "A*v"
   ]
  },
  {
   "cell_type": "code",
   "execution_count": 43,
   "metadata": {},
   "outputs": [
    {
     "data": {
      "text/plain": [
       "array([4, 6])"
      ]
     },
     "execution_count": 43,
     "metadata": {},
     "output_type": "execute_result"
    }
   ],
   "source": [
    "np.matmul(A,v)"
   ]
  },
  {
   "cell_type": "code",
   "execution_count": 52,
   "metadata": {},
   "outputs": [
    {
     "name": "stdout",
     "output_type": "stream",
     "text": [
      "6\n"
     ]
    }
   ],
   "source": [
    "class A:\n",
    "    def __init__(self, num):\n",
    "        self.num = num\n",
    "        \n",
    "    def add_three(self):\n",
    "        self.num += 3\n",
    "        \n",
    "        \n",
    "a = A(3)\n",
    "b = a\n",
    "b.add_three()\n",
    "print(a.num)"
   ]
  },
  {
   "cell_type": "code",
   "execution_count": null,
   "metadata": {},
   "outputs": [],
   "source": []
  },
  {
   "cell_type": "code",
   "execution_count": 90,
   "metadata": {},
   "outputs": [],
   "source": [
    "class Animation:\n",
    "    def __init__(self, start_frame):\n",
    "        self.start_frame = start_frame\n",
    "        \n",
    "        self.h_parent = None\n",
    "        self.h_right = None\n",
    "        self.h_left = None\n",
    "\n",
    "class AnimationQueue:  # min-heap structure for maintaining sorted list of waiting animations\n",
    "    '''\n",
    "        Priority queue for animations waiting to be played next. Implemented by min-heap,\n",
    "        organized by earliest start_frame of Animations. (Perhaps in the future, can reimplement\n",
    "        this to be an implicit data-structure; i.e. using an array that simulates the bin. tree\n",
    "        of the heap).\n",
    "\n",
    "        root: the Animation which is the root of the heap (earliest start frame).\n",
    "    '''\n",
    "    def __init__(self, root):\n",
    "        self.root = root\n",
    "        self.leaf = self.root  # leaf node on the bottom level to the most right\n",
    "        self.next_parent = self.root  # parent node for which next added node will be the child\n",
    "\n",
    "    def add_node(self, node):  # O(log n), total two main O(log(n)) steps: heapify and bad coding.\n",
    "        # First we insert it into the next available sport\n",
    "        node.h_parent = self.next_parent\n",
    "        self.leaf = node\n",
    "\n",
    "        if self.next_parent.h_left is None:\n",
    "            self.next_parent.h_left = node\n",
    "        else:\n",
    "            self.next_parent.h_right = node\n",
    "\n",
    "            # Updating next_parent\n",
    "            grandparent = self.next_parent.h_parent\n",
    "            if self.next_parent == grandparent.h_left:\n",
    "                self.next_parent = grandparent.h_right  # we know this exists since it's one level up\n",
    "            else:\n",
    "                self.next_parent = self.left_most_node()  # bad implementation\n",
    "\n",
    "        self.bubble_up()\n",
    "\n",
    "    def extract_first(self):\n",
    "        prev_root = self.root\n",
    "        prev_leaf = self.leaf\n",
    "\n",
    "        if prev_leaf.h_parent.h_right == prev_leaf:\n",
    "            self.leaf = prev_leaf.h_parent.h_left\n",
    "            self.next_parent = prev_leaf.h_parent\n",
    "        else:\n",
    "            self.leaf = self.right_most_node()\n",
    "            self.next_parent = self.leaf.h_parent.h_left\n",
    "\n",
    "        return prev_root\n",
    "\n",
    "    def bubble_up(self):\n",
    "        node = self.leaf\n",
    "        while node != self.root and node.start_frame < node.h_parent.start_frame:\n",
    "            self.switch_nodes(node.h_parent, node)\n",
    "\n",
    "    def sift_down(self):\n",
    "        node = self.root\n",
    "\n",
    "        stop = False\n",
    "        while not stop:\n",
    "            if node.start_frame > node.h_left.start_frame:\n",
    "                self.switch_nodes(node, node.h_left)\n",
    "            elif node.start_frame > node.h_right.start_frame:\n",
    "                self.switch_nodes(node, node.h_right)\n",
    "            else:\n",
    "                stop = True\n",
    "\n",
    "    def switch_nodes(self, parent, child):\n",
    "        if parent == self.root:\n",
    "            self.root = child\n",
    "        elif child == self.root:\n",
    "            self.root = parent\n",
    "\n",
    "        parents_left = parent.h_left\n",
    "        parents_right = parent.h_right\n",
    "        grandparent = parent.h_parent\n",
    "\n",
    "        childs_left = child.h_left\n",
    "        childs_right = child.h_right\n",
    "\n",
    "        if grandparent is not None:\n",
    "            if grandparent.h_left == parent:\n",
    "                grandparent.h_left = child\n",
    "            else:\n",
    "                grandparent.h_right = child\n",
    "                \n",
    "        if childs_right is not None:\n",
    "            childs_right.h_parent = parent\n",
    "        \n",
    "        if childs_left is not None:\n",
    "            childs_left.h_parent = parent\n",
    "\n",
    "        parent.h_parent = child\n",
    "        parent.h_right = childs_right\n",
    "        parent.h_left = childs_left\n",
    "        child.h_parent = grandparent\n",
    "        \n",
    "        if parents_left == child:\n",
    "            child.h_left = parent\n",
    "            child.h_right = parents_right\n",
    "        else: \n",
    "            child.h_right = parents\n",
    "            child.h_left = parents_left\n",
    "\n",
    "\n",
    "    # O(log n) stupid methods, but who cares for now\n",
    "    def left_most_node(self):\n",
    "        node = self.root\n",
    "        while node.h_left is not None:\n",
    "            node = node.h_left\n",
    "\n",
    "        return node\n",
    "\n",
    "    def right_most_node(self):\n",
    "        node = self.root\n",
    "        while node.h_right is not None:\n",
    "            node = node.h_right\n",
    "\n",
    "        return node"
   ]
  },
  {
   "cell_type": "code",
   "execution_count": 115,
   "metadata": {},
   "outputs": [
    {
     "name": "stdout",
     "output_type": "stream",
     "text": [
      "3\n",
      "None\n"
     ]
    }
   ],
   "source": [
    "root = Animation(3)\n",
    "queue = AnimationQueue(root)\n",
    "nodes = [Animation(i) for i in [1, 9, 20, 19, 10, 10, 5, 2, 4]]\n",
    "\n",
    "queue.add_node(nodes[0])\n",
    "queue.add_node(nodes[1])\n",
    "print(queue.root.h_right)"
   ]
  },
  {
   "cell_type": "code",
   "execution_count": 117,
   "metadata": {},
   "outputs": [
    {
     "name": "stdout",
     "output_type": "stream",
     "text": [
      "True\n"
     ]
    }
   ],
   "source": [
    "x = 3\n",
    "print(2<x<4)"
   ]
  },
  {
   "cell_type": "code",
   "execution_count": 118,
   "metadata": {},
   "outputs": [
    {
     "name": "stdout",
     "output_type": "stream",
     "text": [
      "<generator object hi at 0x117860c50>\n"
     ]
    }
   ],
   "source": [
    "def hi(x):\n",
    "    yield 'cookie'\n",
    "    x = 2\n",
    "    \n",
    "print(hi(3))"
   ]
  },
  {
   "cell_type": "code",
   "execution_count": 121,
   "metadata": {},
   "outputs": [
    {
     "data": {
      "text/plain": [
       "True"
      ]
     },
     "execution_count": 121,
     "metadata": {},
     "output_type": "execute_result"
    }
   ],
   "source": [
    "ye = 3 == 3\n",
    "ye"
   ]
  },
  {
   "cell_type": "code",
   "execution_count": 125,
   "metadata": {},
   "outputs": [
    {
     "name": "stdout",
     "output_type": "stream",
     "text": [
      "True\n"
     ]
    }
   ],
   "source": [
    "import copy \n",
    "\n",
    "class Tree:\n",
    "    def __init__(self, obj):\n",
    "        self.obj = obj\n",
    "        \n",
    "x = Tree(1)\n",
    "tree = Tree(x)\n",
    "tree2 = copy.copy(tree)\n",
    "\n",
    "print(tree2.obj == x)\n",
    "\n"
   ]
  },
  {
   "cell_type": "code",
   "execution_count": 141,
   "metadata": {},
   "outputs": [
    {
     "name": "stdout",
     "output_type": "stream",
     "text": [
      "1\n"
     ]
    }
   ],
   "source": [
    "import numpy as np\n",
    "print(np.random.randint(0,2))"
   ]
  },
  {
   "cell_type": "code",
   "execution_count": 143,
   "metadata": {},
   "outputs": [
    {
     "data": {
      "text/plain": [
       "[-12, 1, 2, 3]"
      ]
     },
     "execution_count": 143,
     "metadata": {},
     "output_type": "execute_result"
    }
   ],
   "source": [
    "sorted([1,2, 3, -12])"
   ]
  },
  {
   "cell_type": "code",
   "execution_count": 2,
   "metadata": {},
   "outputs": [
    {
     "name": "stdout",
     "output_type": "stream",
     "text": [
      "None\n"
     ]
    }
   ],
   "source": [
    "def nothing():\n",
    "    return\n",
    "\n"
   ]
  },
  {
   "cell_type": "code",
   "execution_count": 3,
   "metadata": {},
   "outputs": [
    {
     "name": "stdout",
     "output_type": "stream",
     "text": [
      "2\n"
     ]
    }
   ],
   "source": [
    "l = [1, 2]\n",
    "t = l[1]"
   ]
  },
  {
   "cell_type": "code",
   "execution_count": 8,
   "metadata": {},
   "outputs": [
    {
     "name": "stdout",
     "output_type": "stream",
     "text": [
      "hi 0 1\n",
      "hi 1 3\n",
      "hi 2 1\n",
      "hi 3 9\n",
      "hi 4 45\n",
      "hi 5 4\n",
      "[1, 3, 1, 9, 45, 4]\n"
     ]
    }
   ],
   "source": [
    "l = [1, 2, 3, 1, 2, 9, 10, 45, 2, 4]\n",
    "for i, m in enumerate(l):\n",
    "    if m % 2 == 0:\n",
    "        l.remove(m)\n",
    "        \n",
    "    print('hi', i, l[i])\n",
    "        \n",
    "print(l)"
   ]
  },
  {
   "cell_type": "code",
   "execution_count": 9,
   "metadata": {},
   "outputs": [
    {
     "name": "stdout",
     "output_type": "stream",
     "text": [
      "6\n"
     ]
    }
   ],
   "source": [
    "def f(x, y, z):\n",
    "    print(x + y + z)\n",
    "    \n",
    "    \n",
    "xy = [1, 2]\n",
    "f(*xy, 3)"
   ]
  },
  {
   "cell_type": "code",
   "execution_count": 17,
   "metadata": {},
   "outputs": [
    {
     "name": "stdout",
     "output_type": "stream",
     "text": [
      "4\n",
      "[1, 3]\n"
     ]
    }
   ],
   "source": [
    "class C:\n",
    "    def __init__(self):\n",
    "        self.bounds = [1, 2]\n",
    "    \n",
    "    def potty(self, d):\n",
    "        print(d)\n",
    "        self.bounds[1] = 3\n",
    "        \n",
    "        \n",
    "c = C()\n",
    "x = c.potty\n",
    "\n",
    "def f(func, inp):\n",
    "    func(inp)\n",
    "    \n",
    "f(x, 4)\n",
    "print(c.bounds)"
   ]
  },
  {
   "cell_type": "code",
   "execution_count": null,
   "metadata": {},
   "outputs": [],
   "source": []
  },
  {
   "cell_type": "code",
   "execution_count": 15,
   "metadata": {},
   "outputs": [
    {
     "name": "stdout",
     "output_type": "stream",
     "text": [
      "1.0\n",
      "1.3\n",
      "1.6\n",
      "1.9000000000000001\n",
      "2.2\n"
     ]
    }
   ],
   "source": [
    "import numpy as np\n",
    "\n",
    "for i in np.arange(1, 2.3, 0.3):\n",
    "    print(i)"
   ]
  },
  {
   "cell_type": "code",
   "execution_count": 25,
   "metadata": {},
   "outputs": [
    {
     "ename": "ValueError",
     "evalue": "invalid literal for int() with base 16: '\\\\#'",
     "output_type": "error",
     "traceback": [
      "\u001b[0;31m---------------------------------------------------------------------------\u001b[0m",
      "\u001b[0;31mValueError\u001b[0m                                Traceback (most recent call last)",
      "\u001b[0;32m<ipython-input-25-1c7347491535>\u001b[0m in \u001b[0;36m<module>\u001b[0;34m()\u001b[0m\n\u001b[1;32m      2\u001b[0m     \u001b[0mtuple\u001b[0m\u001b[0;34m(\u001b[0m\u001b[0mint\u001b[0m\u001b[0;34m(\u001b[0m\u001b[0mh\u001b[0m\u001b[0;34m[\u001b[0m\u001b[0mi\u001b[0m\u001b[0;34m:\u001b[0m\u001b[0mi\u001b[0m\u001b[0;34m+\u001b[0m\u001b[0;36m2\u001b[0m\u001b[0;34m]\u001b[0m\u001b[0;34m,\u001b[0m \u001b[0;36m16\u001b[0m\u001b[0;34m)\u001b[0m \u001b[0;32mfor\u001b[0m \u001b[0mi\u001b[0m \u001b[0;32min\u001b[0m \u001b[0;34m(\u001b[0m\u001b[0;36m0\u001b[0m\u001b[0;34m,\u001b[0m \u001b[0;36m2\u001b[0m\u001b[0;34m,\u001b[0m \u001b[0;36m4\u001b[0m\u001b[0;34m)\u001b[0m\u001b[0;34m)\u001b[0m\u001b[0;34m\u001b[0m\u001b[0m\n\u001b[1;32m      3\u001b[0m \u001b[0;34m\u001b[0m\u001b[0m\n\u001b[0;32m----> 4\u001b[0;31m \u001b[0mprint\u001b[0m\u001b[0;34m(\u001b[0m\u001b[0mto_rgb\u001b[0m\u001b[0;34m(\u001b[0m\u001b[0;34m'\\#B4FBB8'\u001b[0m\u001b[0;34m)\u001b[0m\u001b[0;34m)\u001b[0m\u001b[0;34m\u001b[0m\u001b[0m\n\u001b[0m",
      "\u001b[0;32m<ipython-input-25-1c7347491535>\u001b[0m in \u001b[0;36mto_rgb\u001b[0;34m(h)\u001b[0m\n\u001b[1;32m      1\u001b[0m \u001b[0;32mdef\u001b[0m \u001b[0mto_rgb\u001b[0m\u001b[0;34m(\u001b[0m\u001b[0mh\u001b[0m\u001b[0;34m)\u001b[0m\u001b[0;34m:\u001b[0m\u001b[0;34m\u001b[0m\u001b[0m\n\u001b[0;32m----> 2\u001b[0;31m     \u001b[0mtuple\u001b[0m\u001b[0;34m(\u001b[0m\u001b[0mint\u001b[0m\u001b[0;34m(\u001b[0m\u001b[0mh\u001b[0m\u001b[0;34m[\u001b[0m\u001b[0mi\u001b[0m\u001b[0;34m:\u001b[0m\u001b[0mi\u001b[0m\u001b[0;34m+\u001b[0m\u001b[0;36m2\u001b[0m\u001b[0;34m]\u001b[0m\u001b[0;34m,\u001b[0m \u001b[0;36m16\u001b[0m\u001b[0;34m)\u001b[0m \u001b[0;32mfor\u001b[0m \u001b[0mi\u001b[0m \u001b[0;32min\u001b[0m \u001b[0;34m(\u001b[0m\u001b[0;36m0\u001b[0m\u001b[0;34m,\u001b[0m \u001b[0;36m2\u001b[0m\u001b[0;34m,\u001b[0m \u001b[0;36m4\u001b[0m\u001b[0;34m)\u001b[0m\u001b[0;34m)\u001b[0m\u001b[0;34m\u001b[0m\u001b[0m\n\u001b[0m\u001b[1;32m      3\u001b[0m \u001b[0;34m\u001b[0m\u001b[0m\n\u001b[1;32m      4\u001b[0m \u001b[0mprint\u001b[0m\u001b[0;34m(\u001b[0m\u001b[0mto_rgb\u001b[0m\u001b[0;34m(\u001b[0m\u001b[0;34m'\\#B4FBB8'\u001b[0m\u001b[0;34m)\u001b[0m\u001b[0;34m)\u001b[0m\u001b[0;34m\u001b[0m\u001b[0m\n",
      "\u001b[0;32m<ipython-input-25-1c7347491535>\u001b[0m in \u001b[0;36m<genexpr>\u001b[0;34m(.0)\u001b[0m\n\u001b[1;32m      1\u001b[0m \u001b[0;32mdef\u001b[0m \u001b[0mto_rgb\u001b[0m\u001b[0;34m(\u001b[0m\u001b[0mh\u001b[0m\u001b[0;34m)\u001b[0m\u001b[0;34m:\u001b[0m\u001b[0;34m\u001b[0m\u001b[0m\n\u001b[0;32m----> 2\u001b[0;31m     \u001b[0mtuple\u001b[0m\u001b[0;34m(\u001b[0m\u001b[0mint\u001b[0m\u001b[0;34m(\u001b[0m\u001b[0mh\u001b[0m\u001b[0;34m[\u001b[0m\u001b[0mi\u001b[0m\u001b[0;34m:\u001b[0m\u001b[0mi\u001b[0m\u001b[0;34m+\u001b[0m\u001b[0;36m2\u001b[0m\u001b[0;34m]\u001b[0m\u001b[0;34m,\u001b[0m \u001b[0;36m16\u001b[0m\u001b[0;34m)\u001b[0m \u001b[0;32mfor\u001b[0m \u001b[0mi\u001b[0m \u001b[0;32min\u001b[0m \u001b[0;34m(\u001b[0m\u001b[0;36m0\u001b[0m\u001b[0;34m,\u001b[0m \u001b[0;36m2\u001b[0m\u001b[0;34m,\u001b[0m \u001b[0;36m4\u001b[0m\u001b[0;34m)\u001b[0m\u001b[0;34m)\u001b[0m\u001b[0;34m\u001b[0m\u001b[0m\n\u001b[0m\u001b[1;32m      3\u001b[0m \u001b[0;34m\u001b[0m\u001b[0m\n\u001b[1;32m      4\u001b[0m \u001b[0mprint\u001b[0m\u001b[0;34m(\u001b[0m\u001b[0mto_rgb\u001b[0m\u001b[0;34m(\u001b[0m\u001b[0;34m'\\#B4FBB8'\u001b[0m\u001b[0;34m)\u001b[0m\u001b[0;34m)\u001b[0m\u001b[0;34m\u001b[0m\u001b[0m\n",
      "\u001b[0;31mValueError\u001b[0m: invalid literal for int() with base 16: '\\\\#'"
     ]
    }
   ],
   "source": [
    "def to_rgb(h):\n",
    "    tuple(int(h[i:i+2], 16) for i in (0, 2, 4))\n",
    "    \n",
    "print(to_rgb('#B4FBB8'))"
   ]
  },
  {
   "cell_type": "code",
   "execution_count": 32,
   "metadata": {},
   "outputs": [
    {
     "name": "stdout",
     "output_type": "stream",
     "text": [
      "True\n"
     ]
    }
   ],
   "source": [
    "x = lambda d: d\n",
    "\n",
    "print(callable(x))"
   ]
  },
  {
   "cell_type": "code",
   "execution_count": 34,
   "metadata": {},
   "outputs": [
    {
     "data": {
      "text/plain": [
       "2"
      ]
     },
     "execution_count": 34,
     "metadata": {},
     "output_type": "execute_result"
    }
   ],
   "source": [
    "sum([1, 1])"
   ]
  },
  {
   "cell_type": "code",
   "execution_count": 129,
   "metadata": {},
   "outputs": [
    {
     "name": "stdout",
     "output_type": "stream",
     "text": [
      "4 [0.8, 1.0]\n"
     ]
    }
   ],
   "source": [
    "t = 0.95\n",
    "\n",
    "n = len(draw_time_weights)\n",
    "\n",
    "draw_time_weights = [0.2, 0.2, 0.2, 0.2, 0.2]\n",
    "anim_slot = None\n",
    "running_total = draw_time_weights[0]\n",
    "for i in range(1, n+1):\n",
    "    if t < running_total:\n",
    "        anim_slot = i-1\n",
    "        break\n",
    "    elif t == running_total and i==n:\n",
    "        anim_slot = i-1\n",
    "        break\n",
    "        \n",
    "    running_total += draw_time_weights[i]\n",
    "\n",
    "endpoints = [running_total-draw_time_weights[anim_slot], running_total]\n",
    "print(anim_slot, endpoints)"
   ]
  },
  {
   "cell_type": "code",
   "execution_count": 130,
   "metadata": {},
   "outputs": [
    {
     "data": {
      "text/plain": [
       "4"
      ]
     },
     "execution_count": 130,
     "metadata": {},
     "output_type": "execute_result"
    }
   ],
   "source": [
    "x = 4\n",
    "y = x\n",
    "x += 4\n",
    "y"
   ]
  },
  {
   "cell_type": "code",
   "execution_count": 131,
   "metadata": {},
   "outputs": [
    {
     "ename": "SyntaxError",
     "evalue": "invalid syntax (<ipython-input-131-1053c44e729b>, line 1)",
     "output_type": "error",
     "traceback": [
      "\u001b[0;36m  File \u001b[0;32m\"<ipython-input-131-1053c44e729b>\"\u001b[0;36m, line \u001b[0;32m1\u001b[0m\n\u001b[0;31m    first_run = [[True for ]]\u001b[0m\n\u001b[0m                           ^\u001b[0m\n\u001b[0;31mSyntaxError\u001b[0m\u001b[0;31m:\u001b[0m invalid syntax\n"
     ]
    }
   ],
   "source": [
    "first_run = [[True for ]]\n"
   ]
  },
  {
   "cell_type": "code",
   "execution_count": null,
   "metadata": {},
   "outputs": [],
   "source": []
  },
  {
   "cell_type": "code",
   "execution_count": null,
   "metadata": {},
   "outputs": [],
   "source": []
  },
  {
   "cell_type": "code",
   "execution_count": null,
   "metadata": {},
   "outputs": [],
   "source": []
  },
  {
   "cell_type": "code",
   "execution_count": null,
   "metadata": {},
   "outputs": [],
   "source": [
    "import numpy as np \n",
    "import cv2 \n",
    "# for windows, mac users\n",
    "from PIL import ImageGrab\n",
    "# for linux users\n",
    "# import pyscreenshot as ImageGrab\n",
    "\n",
    "# four character code object for video writer\n",
    "fourcc = cv2.VideoWriter_fourcc(*'mp4v')\n",
    "# video writer object\n",
    "out = cv2.VideoWriter(\"output.avi\", fourcc, 5.0, (1366, 768))\n",
    "\n",
    "while True:\n",
    "    # capture computer screen\n",
    "    img = ImageGrab.grab()\n",
    "    # convert image to numpy array\n",
    "    img_np = np.array(img)\n",
    "    # convert color space from BGR to RGB\n",
    "    frame = cv2.cvtColor(img_np, cv2.COLOR_BGR2RGB)\n",
    "    # show image on OpenCV frame\n",
    "    cv2.imshow(\"Screen\", frame)\n",
    "    # write frame to video writer\n",
    "    out.write(frame)\n",
    "  \n",
    "    if cv2.waitKey(1) == 27:\n",
    "        break\n",
    "\n",
    "out.release()\n",
    "cv2.destroyAllWindows()"
   ]
  },
  {
   "cell_type": "code",
   "execution_count": 7,
   "metadata": {},
   "outputs": [
    {
     "name": "stdout",
     "output_type": "stream",
     "text": [
      "3\n"
     ]
    }
   ],
   "source": [
    "class C:\n",
    "    def __init__(self, n):\n",
    "        self.n = n\n",
    "        \n",
    "c = C(3)\n",
    "d = C(4)\n",
    "\n",
    "e = c\n",
    "e = d\n",
    "e.n = 5\n",
    "\n",
    "print(c.n)\n",
    "        "
   ]
  },
  {
   "cell_type": "code",
   "execution_count": null,
   "metadata": {},
   "outputs": [],
   "source": []
  },
  {
   "cell_type": "code",
   "execution_count": null,
   "metadata": {},
   "outputs": [],
   "source": []
  }
 ],
 "metadata": {
  "kernelspec": {
   "display_name": "Python 3",
   "language": "python",
   "name": "python3"
  },
  "language_info": {
   "codemirror_mode": {
    "name": "ipython",
    "version": 3
   },
   "file_extension": ".py",
   "mimetype": "text/x-python",
   "name": "python",
   "nbconvert_exporter": "python",
   "pygments_lexer": "ipython3",
   "version": "3.6.2"
  }
 },
 "nbformat": 4,
 "nbformat_minor": 2
}
